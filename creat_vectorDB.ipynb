{
 "cells": [
  {
   "cell_type": "code",
   "execution_count": 1,
   "metadata": {},
   "outputs": [],
   "source": [
    "from langchain.text_splitter import RecursiveCharacterTextSplitter\n",
    "from langchain.document_loaders import TextLoader\n",
    "# Load file dữ liệu sổ tay sinh viên đã được chuẩn hóa\n",
    "from langchain.schema import Document\n",
    "import pandas as pd\n",
    "\n",
    "class CsvLoader(TextLoader):\n",
    "    def __init__(self, file_path):\n",
    "        self.df = pd.read_csv(file_path)\n",
    "\n",
    "    def load(self):\n",
    "        documents = []\n",
    "        for index, row in self.df.iterrows():\n",
    "            # Tạo Document từ key và value trong dictionary\n",
    "            documents.append(Document(page_content=row['1'], metadata={\"source\": row['0']}))\n",
    "        return documents\n",
    "loader_data = CsvLoader(\"data.csv\")"
   ]
  },
  {
   "cell_type": "markdown",
   "metadata": {},
   "source": [
    "Phân đoạn văn bản\n"
   ]
  },
  {
   "cell_type": "code",
   "execution_count": null,
   "metadata": {},
   "outputs": [],
   "source": [
    "documents_data = loader_data.load()\n",
    "text_splitter = RecursiveCharacterTextSplitter(chunk_size=1000,\n",
    "                                                chunk_overlap=200)\n",
    "\n",
    "texts_data = text_splitter.split_documents(documents_data)"
   ]
  },
  {
   "cell_type": "code",
   "execution_count": null,
   "metadata": {},
   "outputs": [
    {
     "data": {
      "text/plain": [
       "122223"
      ]
     },
     "execution_count": 3,
     "metadata": {},
     "output_type": "execute_result"
    }
   ],
   "source": [
    "len(texts_data)"
   ]
  },
  {
   "cell_type": "markdown",
   "metadata": {},
   "source": [
    "Load embedding model\n"
   ]
  },
  {
   "cell_type": "code",
   "execution_count": null,
   "metadata": {},
   "outputs": [
    {
     "name": "stderr",
     "output_type": "stream",
     "text": [
      "c:\\Users\\ADMIN\\AppData\\Local\\Programs\\Python\\Python312\\Lib\\importlib\\__init__.py:90: LangChainDeprecationWarning: As of langchain-core 0.3.0, LangChain uses pydantic v2 internally. The langchain_core.pydantic_v1 module was a compatibility shim for pydantic v1, and should no longer be used. Please update the code to import from Pydantic directly.\n",
      "\n",
      "For example, replace imports like: `from langchain_core.pydantic_v1 import BaseModel`\n",
      "with: `from pydantic import BaseModel`\n",
      "or the v1 compatibility namespace if you are working in a code base that has not been fully upgraded to pydantic 2 yet. \tfrom pydantic.v1 import BaseModel\n",
      "\n",
      "  return _bootstrap._gcd_import(name[level:], package, level)\n",
      "c:\\Users\\ADMIN\\AppData\\Local\\Programs\\Python\\Python312\\Lib\\site-packages\\sentence_transformers\\cross_encoder\\CrossEncoder.py:13: TqdmExperimentalWarning: Using `tqdm.autonotebook.tqdm` in notebook mode. Use `tqdm.tqdm` instead to force console mode (e.g. in jupyter console)\n",
      "  from tqdm.autonotebook import tqdm, trange\n"
     ]
    },
    {
     "name": "stdout",
     "output_type": "stream",
     "text": [
      "WARNING:tensorflow:From c:\\Users\\ADMIN\\AppData\\Local\\Programs\\Python\\Python312\\Lib\\site-packages\\tf_keras\\src\\losses.py:2976: The name tf.losses.sparse_softmax_cross_entropy is deprecated. Please use tf.compat.v1.losses.sparse_softmax_cross_entropy instead.\n",
      "\n",
      "Warning: hipconfig --rocmpath failed, assuming /opt/rocm\n"
     ]
    }
   ],
   "source": [
    "EMBEDDING_MODEL_PATH = r'D:\\Huan\\Project\\KHDL\\model\\ebmodel\\bge-m3-ft-triplet'\n",
    "from langchain.embeddings import HuggingFaceBgeEmbeddings\n",
    "embeddings = HuggingFaceBgeEmbeddings(model_name=EMBEDDING_MODEL_PATH)"
   ]
  },
  {
   "cell_type": "markdown",
   "metadata": {},
   "source": [
    "Tạo vector store\n"
   ]
  },
  {
   "cell_type": "code",
   "execution_count": 5,
   "metadata": {},
   "outputs": [
    {
     "name": "stdout",
     "output_type": "stream",
     "text": [
      "Loaded 2000 documents and saved\n",
      "Loaded 4000 documents and saved\n",
      "Loaded 6000 documents and saved\n",
      "Loaded 8000 documents and saved\n",
      "Loaded 10000 documents and saved\n",
      "Loaded 12000 documents and saved\n",
      "Loaded 14000 documents and saved\n",
      "Loaded 16000 documents and saved\n",
      "Loaded 18000 documents and saved\n",
      "Loaded 20000 documents and saved\n",
      "Loaded 22000 documents and saved\n",
      "Loaded 24000 documents and saved\n",
      "Loaded 26000 documents and saved\n",
      "Loaded 28000 documents and saved\n",
      "Loaded 30000 documents and saved\n",
      "Loaded 32000 documents and saved\n",
      "Loaded 34000 documents and saved\n",
      "Loaded 36000 documents and saved\n",
      "Loaded 38000 documents and saved\n",
      "Loaded 40000 documents and saved\n",
      "Loaded 42000 documents and saved\n",
      "Loaded 44000 documents and saved\n",
      "Loaded 46000 documents and saved\n",
      "Loaded 48000 documents and saved\n",
      "Loaded 50000 documents and saved\n",
      "Loaded 52000 documents and saved\n",
      "Loaded 54000 documents and saved\n",
      "Loaded 56000 documents and saved\n",
      "Loaded 58000 documents and saved\n",
      "Loaded 60000 documents and saved\n",
      "Loaded 62000 documents and saved\n",
      "Loaded 64000 documents and saved\n",
      "Loaded 66000 documents and saved\n",
      "Loaded 68000 documents and saved\n",
      "Loaded 70000 documents and saved\n",
      "Loaded 72000 documents and saved\n",
      "Loaded 74000 documents and saved\n",
      "Loaded 76000 documents and saved\n",
      "Loaded 78000 documents and saved\n",
      "Loaded 80000 documents and saved\n",
      "Loaded 82000 documents and saved\n",
      "Loaded 84000 documents and saved\n",
      "Loaded 86000 documents and saved\n",
      "Loaded 88000 documents and saved\n",
      "Loaded 90000 documents and saved\n",
      "Loaded 92000 documents and saved\n",
      "Loaded 94000 documents and saved\n",
      "Loaded 96000 documents and saved\n",
      "Loaded 98000 documents and saved\n",
      "Loaded 100000 documents and saved\n",
      "Loaded 102000 documents and saved\n",
      "Loaded 104000 documents and saved\n",
      "Loaded 106000 documents and saved\n",
      "Loaded 108000 documents and saved\n",
      "Loaded 110000 documents and saved\n",
      "Loaded 112000 documents and saved\n",
      "Loaded 114000 documents and saved\n",
      "Loaded 116000 documents and saved\n",
      "Loaded 118000 documents and saved\n",
      "Loaded 120000 documents and saved\n",
      "Loaded 122000 documents and saved\n",
      "Loaded 122223 documents and saved\n"
     ]
    }
   ],
   "source": [
    "from uuid import uuid4\n",
    "import faiss\n",
    "from langchain_community.docstore.in_memory import InMemoryDocstore\n",
    "from langchain_community.vectorstores import FAISS\n",
    "\n",
    "\n",
    "fin = [i for i in range(2000, len(texts_data), 2000)]\n",
    "fin.append(len(texts_data))\n",
    "\n",
    "num_of_doc = 0 \n",
    "start = 0 \n",
    "for fi in range(len(fin)):\n",
    "    i = fin[fi]\n",
    "    _index = faiss.IndexFlatL2(len(embeddings.embed_query(\"hello world\")))\n",
    "    _uuids = [str(uuid4()) for _ in range(len(texts_data[start:i]))]\n",
    "    _vector_store = FAISS(\n",
    "        embedding_function=embeddings,\n",
    "        index=_index,\n",
    "        docstore=InMemoryDocstore(),\n",
    "        index_to_docstore_id={},\n",
    "    )\n",
    "    _vector_store.add_documents(documents=texts_data[start:i], ids=_uuids)\n",
    "    num_of_doc += i - start\n",
    "    start = i\n",
    "    _vector_store.save_local(f\"faiss_index/faiss_index{fi}\")\n",
    "    print(f\"Loaded {num_of_doc} documents and saved\")"
   ]
  },
  {
   "cell_type": "code",
   "execution_count": null,
   "metadata": {},
   "outputs": [],
   "source": [
    "vector_store = FAISS.load_local(\n",
    "    \"faiss_index/faiss_index0\", embeddings, allow_dangerous_deserialization=True\n",
    ") "
   ]
  },
  {
   "cell_type": "code",
   "execution_count": null,
   "metadata": {},
   "outputs": [],
   "source": [
    "for i in range(1, 62):\n",
    "    vector_store.merge_from(FAISS.load_local(\n",
    "        f\"faiss_index/faiss_index{i}\", embeddings, allow_dangerous_deserialization=True\n",
    "    ))"
   ]
  },
  {
   "cell_type": "code",
   "execution_count": 8,
   "metadata": {},
   "outputs": [],
   "source": [
    "vector_store.save_local('vector_store')"
   ]
  },
  {
   "cell_type": "code",
   "execution_count": null,
   "metadata": {},
   "outputs": [],
   "source": [
    "docs = vector_store.similarity_search(\"Cách điều trị bệnh tim mạch\", k = 5)"
   ]
  },
  {
   "cell_type": "code",
   "execution_count": 15,
   "metadata": {},
   "outputs": [
    {
     "name": "stdout",
     "output_type": "stream",
     "text": [
      "[Document(metadata={'source': 14668651}, page_content='Điều trị \\nBệnh tim mạch có thể điều trị bằng điều trị ban đầu chủ yếu tập trung vào chế độ ăn uống và can thiệp lối sống. Cúm có thể làm cho các cơn đau tim và đột quỵ nhiều hơn và do đó tiêm phòng cúm có thể làm giảm nguy cơ biến cố tim mạch và tử vong ở những người mắc bệnh tim.'), Document(metadata={'source': 19826369}, page_content=\"Rothrock J. Alexander's - Care of the Patient. Missouri; Saunders; 2003; 236.\\nComplications: p316-7 http://medind.nic.in/iad/t05/i4/iadt05i4p308.pdf Lưu trữ 2006-12-12 tại Wayback Machine\\nGuidelines for cardiopulmonary resuscitation and emergency cardiovascular care. Circulation. 2000; 102 (suppl 1): I95–I104.[Medline]\"), Document(metadata={'source': 470015}, page_content='Các phương pháp điều trị thay thế \\nCó rất nhiều phương pháp điều trị thay thế cho cảm lạnh, hầu hết chưa có bằng chứng khoa học cụ thể nào về tác dụng của các phương pháp. và cũng chưa đủ bằng chứng cho việc khuyến cáo hay khuyến khích dùng mật ong hay rửa mũi như một phương pháp điều trị. Các nghiên cứu chỉ ra rằng việc sử dụng kẽm trước 24h sau khi nhiễm bệnh có tác dụng làm giảm thời gian và mức độ nghiêm trọng của cảm lạnh, tuy nhiên các nhà khoa học đang nghiên cứu sâu hơn để tìm ra thời điểm cụ thể để sử dụng kẽm cho tác dụng tốt nhất. Vitamin C có tác dụng trong cảm thông thường, nhưng đa số các nghiên cứu vẫn cho ra kết quả không mấy khả quan trừ một vài trường hợp cho thấy cơ thể phản ứng mạnh trong môi trường lạnh. Cũng chưa có bằng chứng cụ thể về tác dụng của echinacea (một loại hoa họ cúc). Trong khi tỏi có hiệu quả rõ rệt. Một thử nghiệm Vitamin D cũng chưa cho thấy lợi ích trong việc điều trị.\\n Tiên lượng'), Document(metadata={'source': 797848}, page_content='Tham khảo \\nSử ký Tư Mã Thiên, vols [1], [2], [3], [4]\\nHán thư, vols [5], [6], [7]\\nTư trị thông giám, vols [8], 19\\nTân Đường thư, 70'), Document(metadata={'source': 3192961}, page_content='Botulinum có trong các căn bệnh \\nBài chi tiết: Botulism')]\n"
     ]
    }
   ],
   "source": [
    "print(docs)"
   ]
  }
 ],
 "metadata": {
  "kernelspec": {
   "display_name": "Python 3",
   "language": "python",
   "name": "python3"
  },
  "language_info": {
   "codemirror_mode": {
    "name": "ipython",
    "version": 3
   },
   "file_extension": ".py",
   "mimetype": "text/x-python",
   "name": "python",
   "nbconvert_exporter": "python",
   "pygments_lexer": "ipython3",
   "version": "3.12.4"
  }
 },
 "nbformat": 4,
 "nbformat_minor": 2
}
