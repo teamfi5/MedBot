{
 "cells": [
  {
   "cell_type": "code",
   "execution_count": 2,
   "metadata": {},
   "outputs": [
    {
     "name": "stdout",
     "output_type": "stream",
     "text": [
      "WARNING:tensorflow:From d:\\Python\\Lib\\site-packages\\tf_keras\\src\\losses.py:2976: The name tf.losses.sparse_softmax_cross_entropy is deprecated. Please use tf.compat.v1.losses.sparse_softmax_cross_entropy instead.\n",
      "\n",
      "Load reranker model... Done\n"
     ]
    }
   ],
   "source": [
    "from rerank import reranker\n",
    "_rerank = reranker()"
   ]
  },
  {
   "cell_type": "code",
   "execution_count": 3,
   "metadata": {},
   "outputs": [
    {
     "name": "stdout",
     "output_type": "stream",
     "text": [
      "Load embedding model...  "
     ]
    },
    {
     "name": "stderr",
     "output_type": "stream",
     "text": [
      "d:\\Huan\\Project\\KHDL\\retrieve.py:15: LangChainDeprecationWarning: The class `HuggingFaceBgeEmbeddings` was deprecated in LangChain 0.2.2 and will be removed in 1.0. An updated version of the class exists in the :class:`~langchain-huggingface package and should be used instead. To use it run `pip install -U :class:`~langchain-huggingface` and import as `from :class:`~langchain_huggingface import HuggingFaceEmbeddings``.\n",
      "  self.embeddings = HuggingFaceBgeEmbeddings(model_name=EMBEDDING_MODEL_PATH)\n"
     ]
    },
    {
     "name": "stdout",
     "output_type": "stream",
     "text": [
      "Done\n",
      "Load vector store...  Done\n"
     ]
    }
   ],
   "source": [
    "from retrieve import retrieve\n",
    "re = retrieve('vector_store')\n"
   ]
  },
  {
   "cell_type": "code",
   "execution_count": 10,
   "metadata": {},
   "outputs": [],
   "source": [
    "query = \"Triệu chứng của ung thư phổi?\""
   ]
  },
  {
   "cell_type": "code",
   "execution_count": 11,
   "metadata": {},
   "outputs": [],
   "source": [
    "_docs = re.similarity_search(query=query, top_k = 8)"
   ]
  },
  {
   "cell_type": "code",
   "execution_count": 12,
   "metadata": {},
   "outputs": [],
   "source": [
    "docs = [i.page_content for i in _docs]"
   ]
  },
  {
   "cell_type": "code",
   "execution_count": 13,
   "metadata": {},
   "outputs": [
    {
     "name": "stdout",
     "output_type": "stream",
     "text": [
      "['Dấu hiệu và triệu chứng \\nNhững dấu hiệu và triệu chứng có thể là của ung thư phổi bao gồm:\\nTriệu chứng về đường hô hấp: ho, ho ra máu, thở khò khè, khó thở\\nTriệu chứng toàn thân: sụt cân, mệt mỏi, sốt, móng tay dùi trống\\nTriệu chứng do ung thư chèn ép nhiều sang các cơ quan kề bên: đau ngực, đau xương, tắc nghẽn tĩnh mạch chủ trên, khó nuốt\\nNếu ung thư phát triển ở đường thở, nó có thể chặn dòng khí lưu thông, gây ra chứng khó thở. Sự cản trở này có thể dẫn tới việc tích lũy chất bài tiết phía sau chỗ tắc, qua đó mở đường cho viêm phổi.', 'Phần lớn các triệu chứng của ung thư phổi (chán ăn, sụt cân, sốt, mệt mỏi) là không đặc biệt. Đối với nhiều người, vào thời điểm họ phát hiện ra những dấu hiệu bệnh tật và đi tìm sự chăm sóc y tế, khối u đã lan ra ngoài địa điểm khởi phát. Các triệu chứng có thể báo hiệu quá trình di căn đã xuất hiện bao gồm sụt cân, đau xương và các triệu chứng về thần kinh (đau đầu, ngất xỉu, co giật, yếu chi). Những địa điểm khối u lan sang thường gặp đó là não, xương, tuyến thượng thận, lá phổi còn lại, gan, màng ngoài tim, và thận. Khoảng 10% số ca ung thư phổi không thấy những triệu chứng khi chẩn đoán, những trường hợp này bệnh tình cờ phát hiện nhờ việc chụp X quang ngực định kỳ.\\n Nguyên nhân', 'Triệu chứng', 'Ung thư phổi là căn bệnh trong đó xuất hiện một khối u ác tính được mô tả qua sự tăng sinh tế bào không thể kiểm soát trong các mô phổi. Nếu người bệnh không được điều trị, sự tăng trưởng tế bào  này có thể lan ra ngoài phổi  đến các mô hoặc bộ phận khác của cơ thể, quá trình này gọi là di căn. Hầu hết các loại ung thư khởi nguồn từ trong phổi (ung thư phổi nguyên phát) là ung thư biểu mô,. Ung thư phổi được chia làm hai loại chính là ung thư phổi tế bào nhỏ (SCLC) và ung thư phổi không phải tế bào nhỏ (NSCLC). Triệu chứng phổ biến nhất của căn bệnh này là ho (bao gồm cả ho ra máu), sụt cân, khó thở, và đau ngực.', 'Nếu ung thư phát triển ở đường thở, nó có thể chặn dòng khí lưu thông, gây ra chứng khó thở. Sự cản trở này có thể dẫn tới việc tích lũy chất bài tiết phía sau chỗ tắc, qua đó mở đường cho viêm phổi.\\nTùy thuộc vào loại khối u, hội chứng cận ung thư (paraneoplastic syndrome) có thể là dấu hiệu thu hút sự chú ý ban đầu đến căn bệnh. Đối với ung thư phổi, những hiện tượng này có thể bao gồm chứng tăng calci huyết, hội chứng tăng tiết hormone chống bài niệu không phù hợp (SIADH, nước tiếu đậm đặc và máu loãng một cách bất thường), hormon vỏ thượng thận (ACTH) sản xuất lệch vị trí, hội chứng nhược cơ Lambert–Eaton (cơ bắp yếu đi do rối loạn tự miễn dịch). Các khối u trên đỉnh phổi, biết đến với tên gọi khối u Pancoast, có thể xâm lấn hệ thần kinh giao cảm, dẫn tới hội chứng horner (sụp mí mắt và co đồng tử cùng bên) và gây tổn hại đến đám rối thần kinh cánh tay (brachial plexus).', 'Các triệu chứng của xơ phổi chủ yếu là:\\nKhó thở, đặc biệt là gắng sức\\nKhô mãn tính, ho khúc khắc\\nMệt mỏi và yếu đuối\\nKhó chịu ở ngực bao gồm đau ngực\\nMất cảm giác ngon miệng và giảm cân nhanh chóng\\nXơ phổi được gợi ý với tiền sử khó thở tiến triển (khó thở) khi gắng sức. Đôi khi có thể nghe thấy tiếng kêu hô hấp tốt ở các cơ sở phổi khi nghe tim thai. X-quang ngực có thể có hoặc không bất thường, nhưng chụp vi tính độ phân giải cao sẽ thường xuyên chứng minh sự bất thường.\\n Nguyên nhân', 'Dấu hiệu và triệu chứng \\nCác dấu hiệu và triệu chứng của ung thư đại trực tràng phụ thuộc vào vị trí của khối u trong ruột, và nó có thể đã lan rộng ra những nơi khác trong cơ thể (di căn). Các dấu hiệu cảnh báo sớm bao gồm: táo bón, đi ngoài phân nhỏ, ra máu, co thắt dạ dày, chán ăn, mệt mỏi, sút cân không rõ nguyên nhân, và buồn nôn hoặc nôn ở một người trên 50 tuổi. Thông thường, các triệu chứng này không phải do ung thư. Các vấn đề sức khỏe khác có thể gây ra một số các triệu chứng này. Ung thư giai đoạn đầu thường không gây đau. Trong khi chảy máu trực tràng hoặc thiếu máu là đặc điểm nguy cơ cao ở những người trên 50 tuổi, các triệu chứng khác thường được mô tả bao gồm giảm cân và thay đổi thói quen đi tiêu thường chỉ liên quan nếu kết hợp với chảy máu.\\n Phòng bệnh \\nHầu hết các bệnh ung thư đại trực tràng là có thể ngăn, qua giám sát và lối sống lành mạnh.\\n Lối sống', 'Nguyên nhân khác \\nNgoài các nguyên nhân kể trên, còn nhiều yếu tố khác có mối liên hệ với ung thư phổi, như các chất (hóa học), nghề nghiệp, và kiểu tình trạng tiếp xúc với môi trường. Cơ quan Nghiên cứu Ung thư Quốc tế (IARC) phát biểu rằng có \"bằng chứng đầy đủ\" chỉ ra các yếu tố dưới đây là tác nhân gây ra ung thư ở phổi:\\nMột số kim loại (sản phẩm nhôm, cadmi và các hợp chất của cadmi, các hợp chất crom (VI), beryli và các hợp chất của beryli, sắt và thép nóng chảy, các hợp chất của niken, asen và các hợp chất vô cơ của asen, hematit khai thác dưới mặt đất)\\nMột số sản phẩm của sự cháy (cháy không hoàn toàn, than đá [khí thải phát ra trong nhà từ việc đốt than], khí hóa than, dầu nhựa than đá, than cốc, bồ hóng, khí thải động cơ diesel)\\nBức xạ ion hóa (bức xạ tia X, bức xạ gamma, plutoni)\\nMột số khí độc (metyl ete [dùng trong công nghiệp], Bis-(clorometyl) ete, mù tạc lưu huỳnh, MOPP [ hỗn hợp vincristin-prednison-mù tạc nitơ-procarbazin ], hơi sơn)']\n"
     ]
    }
   ],
   "source": [
    "print(docs)"
   ]
  },
  {
   "cell_type": "code",
   "execution_count": 14,
   "metadata": {},
   "outputs": [],
   "source": [
    "rs = _rerank.rerank(query, docs)"
   ]
  },
  {
   "cell_type": "code",
   "execution_count": 15,
   "metadata": {},
   "outputs": [
    {
     "data": {
      "text/plain": [
       "('Dấu hiệu và triệu chứng \\nNhững dấu hiệu và triệu chứng có thể là của ung thư phổi bao gồm:\\nTriệu chứng về đường hô hấp: ho, ho ra máu, thở khò khè, khó thở\\nTriệu chứng toàn thân: sụt cân, mệt mỏi, sốt, móng tay dùi trống\\nTriệu chứng do ung thư chèn ép nhiều sang các cơ quan kề bên: đau ngực, đau xương, tắc nghẽn tĩnh mạch chủ trên, khó nuốt\\nNếu ung thư phát triển ở đường thở, nó có thể chặn dòng khí lưu thông, gây ra chứng khó thở. Sự cản trở này có thể dẫn tới việc tích lũy chất bài tiết phía sau chỗ tắc, qua đó mở đường cho viêm phổi.',\n",
       " 'Ung thư phổi là căn bệnh trong đó xuất hiện một khối u ác tính được mô tả qua sự tăng sinh tế bào không thể kiểm soát trong các mô phổi. Nếu người bệnh không được điều trị, sự tăng trưởng tế bào  này có thể lan ra ngoài phổi  đến các mô hoặc bộ phận khác của cơ thể, quá trình này gọi là di căn. Hầu hết các loại ung thư khởi nguồn từ trong phổi (ung thư phổi nguyên phát) là ung thư biểu mô,. Ung thư phổi được chia làm hai loại chính là ung thư phổi tế bào nhỏ (SCLC) và ung thư phổi không phải tế bào nhỏ (NSCLC). Triệu chứng phổ biến nhất của căn bệnh này là ho (bao gồm cả ho ra máu), sụt cân, khó thở, và đau ngực.',\n",
       " 'Phần lớn các triệu chứng của ung thư phổi (chán ăn, sụt cân, sốt, mệt mỏi) là không đặc biệt. Đối với nhiều người, vào thời điểm họ phát hiện ra những dấu hiệu bệnh tật và đi tìm sự chăm sóc y tế, khối u đã lan ra ngoài địa điểm khởi phát. Các triệu chứng có thể báo hiệu quá trình di căn đã xuất hiện bao gồm sụt cân, đau xương và các triệu chứng về thần kinh (đau đầu, ngất xỉu, co giật, yếu chi). Những địa điểm khối u lan sang thường gặp đó là não, xương, tuyến thượng thận, lá phổi còn lại, gan, màng ngoài tim, và thận. Khoảng 10% số ca ung thư phổi không thấy những triệu chứng khi chẩn đoán, những trường hợp này bệnh tình cờ phát hiện nhờ việc chụp X quang ngực định kỳ.\\n Nguyên nhân',\n",
       " 'Triệu chứng',\n",
       " 'Nếu ung thư phát triển ở đường thở, nó có thể chặn dòng khí lưu thông, gây ra chứng khó thở. Sự cản trở này có thể dẫn tới việc tích lũy chất bài tiết phía sau chỗ tắc, qua đó mở đường cho viêm phổi.\\nTùy thuộc vào loại khối u, hội chứng cận ung thư (paraneoplastic syndrome) có thể là dấu hiệu thu hút sự chú ý ban đầu đến căn bệnh. Đối với ung thư phổi, những hiện tượng này có thể bao gồm chứng tăng calci huyết, hội chứng tăng tiết hormone chống bài niệu không phù hợp (SIADH, nước tiếu đậm đặc và máu loãng một cách bất thường), hormon vỏ thượng thận (ACTH) sản xuất lệch vị trí, hội chứng nhược cơ Lambert–Eaton (cơ bắp yếu đi do rối loạn tự miễn dịch). Các khối u trên đỉnh phổi, biết đến với tên gọi khối u Pancoast, có thể xâm lấn hệ thần kinh giao cảm, dẫn tới hội chứng horner (sụp mí mắt và co đồng tử cùng bên) và gây tổn hại đến đám rối thần kinh cánh tay (brachial plexus).',\n",
       " 'Nguyên nhân khác \\nNgoài các nguyên nhân kể trên, còn nhiều yếu tố khác có mối liên hệ với ung thư phổi, như các chất (hóa học), nghề nghiệp, và kiểu tình trạng tiếp xúc với môi trường. Cơ quan Nghiên cứu Ung thư Quốc tế (IARC) phát biểu rằng có \"bằng chứng đầy đủ\" chỉ ra các yếu tố dưới đây là tác nhân gây ra ung thư ở phổi:\\nMột số kim loại (sản phẩm nhôm, cadmi và các hợp chất của cadmi, các hợp chất crom (VI), beryli và các hợp chất của beryli, sắt và thép nóng chảy, các hợp chất của niken, asen và các hợp chất vô cơ của asen, hematit khai thác dưới mặt đất)\\nMột số sản phẩm của sự cháy (cháy không hoàn toàn, than đá [khí thải phát ra trong nhà từ việc đốt than], khí hóa than, dầu nhựa than đá, than cốc, bồ hóng, khí thải động cơ diesel)\\nBức xạ ion hóa (bức xạ tia X, bức xạ gamma, plutoni)\\nMột số khí độc (metyl ete [dùng trong công nghiệp], Bis-(clorometyl) ete, mù tạc lưu huỳnh, MOPP [ hỗn hợp vincristin-prednison-mù tạc nitơ-procarbazin ], hơi sơn)',\n",
       " 'Dấu hiệu và triệu chứng \\nCác dấu hiệu và triệu chứng của ung thư đại trực tràng phụ thuộc vào vị trí của khối u trong ruột, và nó có thể đã lan rộng ra những nơi khác trong cơ thể (di căn). Các dấu hiệu cảnh báo sớm bao gồm: táo bón, đi ngoài phân nhỏ, ra máu, co thắt dạ dày, chán ăn, mệt mỏi, sút cân không rõ nguyên nhân, và buồn nôn hoặc nôn ở một người trên 50 tuổi. Thông thường, các triệu chứng này không phải do ung thư. Các vấn đề sức khỏe khác có thể gây ra một số các triệu chứng này. Ung thư giai đoạn đầu thường không gây đau. Trong khi chảy máu trực tràng hoặc thiếu máu là đặc điểm nguy cơ cao ở những người trên 50 tuổi, các triệu chứng khác thường được mô tả bao gồm giảm cân và thay đổi thói quen đi tiêu thường chỉ liên quan nếu kết hợp với chảy máu.\\n Phòng bệnh \\nHầu hết các bệnh ung thư đại trực tràng là có thể ngăn, qua giám sát và lối sống lành mạnh.\\n Lối sống',\n",
       " 'Các triệu chứng của xơ phổi chủ yếu là:\\nKhó thở, đặc biệt là gắng sức\\nKhô mãn tính, ho khúc khắc\\nMệt mỏi và yếu đuối\\nKhó chịu ở ngực bao gồm đau ngực\\nMất cảm giác ngon miệng và giảm cân nhanh chóng\\nXơ phổi được gợi ý với tiền sử khó thở tiến triển (khó thở) khi gắng sức. Đôi khi có thể nghe thấy tiếng kêu hô hấp tốt ở các cơ sở phổi khi nghe tim thai. X-quang ngực có thể có hoặc không bất thường, nhưng chụp vi tính độ phân giải cao sẽ thường xuyên chứng minh sự bất thường.\\n Nguyên nhân')"
      ]
     },
     "execution_count": 15,
     "metadata": {},
     "output_type": "execute_result"
    }
   ],
   "source": [
    "rs[0]"
   ]
  },
  {
   "cell_type": "code",
   "execution_count": 16,
   "metadata": {},
   "outputs": [
    {
     "name": "stdout",
     "output_type": "stream",
     "text": [
      "Load tokenizer and generation model with QLoRA configuration...Done\n",
      "Triệu chứng phổ biến nhất của ung thư phổi là ho, sụt cân, khó thở, và đau ngực. Các triệu chứng có thể bao gồm sụt cân, mệt mỏi, sốt, ho ra máu, co giật, và đau đầu. Đôi khi các triệu chứng này có thể không đặc trưng, nhưng các địa điểm khối u lan sang thường gặp bao gồm não, xương, tuyến thượng thận, lá phổi, gan, màng ngoài tim, và thận. Những trường hợp ung thư phổi không thấy các triệu chứng khi chẩn đoán có thể được chẩn đoán bằng cách sử dụng các phương pháp khác như chụp X quang ngực định kỳ. Chẩn đoán chính xác về các triệu chứng của ung thư phổi cần phải dựa trên các xét nghiệm máu và chụp X quang ngực định kỳ.\n"
     ]
    }
   ],
   "source": [
    "from generation import QAmodel\n",
    "Bot = QAmodel()\n",
    "\n",
    "print(Bot.generation(query, ''.join(rs[0][:3])))"
   ]
  },
  {
   "cell_type": "code",
   "execution_count": 20,
   "metadata": {},
   "outputs": [
    {
     "name": "stdout",
     "output_type": "stream",
     "text": [
      "{('d:\\\\Huan\\\\Project\\\\KHDL\\\\pdf/7488-Ung_thư_phổi.pdf', 'Ung thư phổi')}\n",
      "('d:\\\\Huan\\\\Project\\\\KHDL\\\\pdf/7488-Ung_thư_phổi.pdf', 'Ung thư phổi')\n"
     ]
    }
   ],
   "source": [
    "links = set([re.search_doc_pdf(_docs[rs[1][i]]) for i in range(3)])\n",
    "print(links)\n",
    "for i in links:\n",
    "    print(i)"
   ]
  }
 ],
 "metadata": {
  "kernelspec": {
   "display_name": "Python 3",
   "language": "python",
   "name": "python3"
  },
  "language_info": {
   "codemirror_mode": {
    "name": "ipython",
    "version": 3
   },
   "file_extension": ".py",
   "mimetype": "text/x-python",
   "name": "python",
   "nbconvert_exporter": "python",
   "pygments_lexer": "ipython3",
   "version": "3.12.8"
  }
 },
 "nbformat": 4,
 "nbformat_minor": 2
}
