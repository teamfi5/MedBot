{
 "cells": [
  {
   "cell_type": "code",
   "execution_count": 7,
   "metadata": {},
   "outputs": [
    {
     "name": "stderr",
     "output_type": "stream",
     "text": [
      "c:\\Users\\ADMIN\\AppData\\Local\\Programs\\Python\\Python312\\Lib\\importlib\\__init__.py:90: LangChainDeprecationWarning: As of langchain-core 0.3.0, LangChain uses pydantic v2 internally. The langchain_core.pydantic_v1 module was a compatibility shim for pydantic v1, and should no longer be used. Please update the code to import from Pydantic directly.\n",
      "\n",
      "For example, replace imports like: `from langchain_core.pydantic_v1 import BaseModel`\n",
      "with: `from pydantic import BaseModel`\n",
      "or the v1 compatibility namespace if you are working in a code base that has not been fully upgraded to pydantic 2 yet. \tfrom pydantic.v1 import BaseModel\n",
      "\n",
      "  return _bootstrap._gcd_import(name[level:], package, level)\n"
     ]
    },
    {
     "name": "stdout",
     "output_type": "stream",
     "text": [
      "Load embedding model...  Done\n",
      "Load vector store...  Done\n"
     ]
    }
   ],
   "source": [
    "from retrieve import retrieve\n",
    "vector_store_path = 'vector_store'\n",
    "EB_PATH = r'D:\\Huan\\Project\\KHDL\\model\\ebmodel\\bge-m3-ft-triplet'\n",
    "re = retrieve(vector_store_path = vector_store_path, EMBEDDING_MODEL_PATH = EB_PATH)"
   ]
  },
  {
   "cell_type": "code",
   "execution_count": 19,
   "metadata": {},
   "outputs": [],
   "source": [
    "query = 'Triệu chứng của bệnh loạn dưỡng cơ Duchenne?'\n",
    "docs = re.similarity_search(query=query,top_k=10)\n"
   ]
  },
  {
   "cell_type": "code",
   "execution_count": 20,
   "metadata": {},
   "outputs": [],
   "source": [
    "docs = [i.page_content for i in docs]"
   ]
  },
  {
   "cell_type": "code",
   "execution_count": 21,
   "metadata": {},
   "outputs": [
    {
     "name": "stdout",
     "output_type": "stream",
     "text": [
      "['Triệu chứng', 'Loạn dưỡng cơ (tiếng Anh: Muscular dystrophy) đề cập đến một nhóm bệnh cơ liên quan đến gen, các bệnh này làm yếu các cơ trong thể người. Loạn dưỡng cơ đặc trưng bởi một quá trình làm yếu các cơ xương do thiếu hụt các protein cơ, và sự chết đi của các tế bào và mô. Có 9 bệnh được xếp vào nhóm  này gồm Duchenne, Becker, thắt lưng-vai,\\nbẩm sinh, facioscapulohumeral, tăng trương lực cơ, oculopharyngeal, ngoại biên, và Emery-Dreifuss mặc dù, tổng số có hơn 100 bệnh tương tự như bệnh này. Hầu hết các bệnh MD liên quan đến rối loạn đa hệ thống trong cơ thể như hệ tim mạch, hệ tiêu hóa, và hệ thần kinh, các tuyến nội tiết, da, mắt và thậm chí ở não. Tình trạng này cũng có thể dẫn đến các thay đổi về tâm trạng và khó khăn trong việc học.\\n Chẩn đoán \\nViệc chẩn đoán bệnh dựa trên các kết quả sinh thiết cơ và sự gia tăng creatine phosphokinase (CpK3). Trong một số trường hợp, thí nghiêm DNA tế bào máu có thể đủ yêu cầu.', 'Triệu chứng \\nDMD là một kiểu bệnh loạn dưỡng cơ nghiêm trọng nhất. Triệu chứng  thường bắt đầu ở bé trai khoảng 3 - 4 tuổi biểu hiện ở yếu cơ và teo cơ, ban đầu thường ở các cơ đùi, cơ bắp chân, sau đó là ở cơ cánh tay. Vì thế người bệnh đi lại và đứng lên rất khó khăn. Đến tuổi 12 thường không thể tự đi bộ. Ngoài ra nhiều người bệnh còn bị kèm chứng vẹo cột sống, một số còn bị thiểu năng trí tuệ. Nữ giới cũng có thể biểu hiện một số triệu chứng này, nhưng tần số bị bệnh rất thấp và mức độ biểu hiện bệnh thường nhẹ hơn. Nói chung, tuổi thọ trung bình của người bệnh là 26, nếu chăm sóc thật đầy đủ thì một số có thể sống tới độ tuổi 30 hoặc 40.\\nBệnh thường gặp ở nam, xảy ra với tần số khoảng 1/3600 trẻ sơ sinh nam, có tiền sử gia đình mắc bệnh này.\\nNgoài các triệu chứng dễ nhận nói trên, người bệnh còn có thể có các biểu hiện sau:\\n-     Nếu đi được thì thường có xu hướng đi bằng bàn chân trước, hoặc thậm chí đi trên các ngón chân;\\n-     Hay bị ngã, thường mỏi cơ;', 'Bệnh loạn dưỡng cơ Duchenne là một bệnh di truyền ở người, đặc trưng bởi sự thoái hóa cơ, do gen đột biến định vị ở vùng không tương đồng của nhiễm sắc thể X gây ra. Gen đột biến là alen lặn không tạo ra dystrophin làm tế bào cơ tổn thương. Bệnh này được đặt tên theo nhà thần kinh học người Pháp Guillaume Benjamin Amand Duchenne là  người đầu tiên phát hiện và mô tả rõ ràng về bệnh học vào khoảng năm 1860. Trong y học nước ngoài, tên bệnh này gọi là \"Duchenne muscular dystrophy\" (viết tắt là DMD) hoặc gọi tắt là \"bệnh Duchenne\" (phát âm tiếng Anh: /duˈʃɛn/, tiếng Việt thường đọc theo tiếng Pháp là Đuyxen, hoặc theo tiếng Anh là Đuxen). Đây là một bệnh phổ biến hơn cả trong nhóm bệnh loạn dưỡng cơ (muscular dystrophy), từ dưới đây tên bệnh viết tắt theo quy ước quốc tế là DMD.\\n Lược sử \\nDMD được mô tả những lần đầu tiên nhờ bác sĩ ở Napôli là Jac Semmola vào năm 1834 và bác sĩ người Ý là Gaetano Conte vào năm 1836.', 'Triệu chứng cơ năng và triệu chứng thực thể \\nCác triệu chứng thực thể và triệu chứng cơ năng: hạ đường huyết, mất nước, sút cân và rối loạn tính cách. Bệnh nhân có thể bị suy nhược, mệt mỏi, chóng mặt, hạ huyết áp, huyết áp có thể tụt xuống thêm khi đứng (hạ huyết áp tư thế), trụy tim mạch, đau nhức cơ, buồn nôn, nôn mửa và tiêu chảy. Những vấn đề này có thể phát triển dần dần và âm thầm. Bệnh Addison có thể biểu hiện với tình trạng da sạm (rám nắng), loang lổ hoặc thậm chí loang ra khắp cơ thể. Các vị trí đặc trưng của sạm da là ở vị trí các nếp nhăn trên da (ví dụ như ở bàn tay) và má. Bướu cổ và bạch biến, tăng bạch cầu ái toan có thể xuất hiện.\\n Chẩn đoán \\nDựa vào:\\nĐiện giải\\nCortisol huyết thanh\\nACTH huyết thanh\\nĐôi khi là test kích thích ACTH\\nTriệu chứng lâm sàng và dấu hiệu cho thấy suy thượng thận. Đôi khi chẩn đoán được đặt ra chỉ nhờ rối loạn điện giải, bao gồm natri thấp (< 135 mEq/L), kali cao (> 5 mEq/L), HCO3 thấp (15 đến 20 mEq / L), và urea máu cao.\\n Điều trị', 'Dấu hiệu này đặt tên theo bác sỹ thần kinh người Anh, ông William Richard Gowers (1845-1915).\\n Cơ chế bệnh sinh \\nDấu hiệu ghế đẩu thường thấy ở chứng loạn dưỡng cơ Duchenne, hay biểu hiện khi trẻ 4–6 tuổi, nhưng cũng tự biểu hiện trong bệnh nhân cơ trung tâm (centronuclear myopathy), loạn dưỡng cơ và nhiều tình trạng khác liên quan đến yếu cơ gốc chi như loạn dưỡng cơ Becker, viêm da cơ và bệnh Pompe. Bệnh nhân cường giáp thường bị yếu cơ, nhất là các cơ bám vào thân mình. Điển hình nhất là yếu cơ tứ đầu đùi. Cơ tứ đầu đùi bị yếu làm cho bệnh nhân không thể tự đứng lên sau khi đã ngồi xuống. Bệnh nhân phải chống tay vào một chỗ tựa như thành ghế để có thể đứng lên. Dấu hiệu ghế đẩu cũng được sử dụng trong khám liệt nửa người đối bên.', 'Nó cũng được gọi là hội chứng Ứ mật thai kỳ — Phù bạch mạch (CLS)\\n Triệu chứng \\nCác triệu chứng hội chứng Aagenaes tổng quát bao gồm:\\nĐau bụng\\nPhân màu sáng, có thể biến thành nhựa đường vì chảy máu đường ruột\\nNước tiểu tối\\nLá lách to\\nRối loạn đường tiêu hóa\\nMệt mỏi\\nSắc tố da bất thường\\nĐau ở khớp và xương', 'Chẩn đoán \\nViệc chẩn đoán bệnh dựa trên các kết quả sinh thiết cơ và sự gia tăng creatine phosphokinase (CpK3). Trong một số trường hợp, thí nghiêm DNA tế bào máu có thể đủ yêu cầu.\\nXét nghiệm vật lý (cơ) và lịch sử bệnh của bệnh nhân sẽ giúp bác sĩ xác định loại loạn dưỡng cơ nào. Các nhóm cơ cụ thể bị tác động bởi những loại loạn dưỡng cơ khác nhau.\\nBiểu hiện thông thường là sự sụt giảm khối lượng cơ hay teo cơ, tuy nhiên vấn đề sẽ khó hơn nếu như một số loại loạn dưỡng cơ làm cơ to hơn và liên kết các mô với nhau trông chúng lớn hơn. Bệnh này gọi là giả phì đại cơ (pseudohypertrophy).', 'Triệu chứng \\nKhi mắc phải hội chứng này, người bệnh thấy cơ thể mệt mỏi, chán chường, nhấc chân nhấc tay cũng không nổi, chẳng buồn ăn uống, tinh thần làm việc hay vui chơi cũng không thể xốc dậy dù được củng cố. Nạn nhân của hội chứng này thường khi còn rất trẻ, trước đó chưa hề có lần đau yếu nghiêm trọng, bỗng nhiên trở nên mệt mỏi dù chưa làm việc bao nhiêu, chợt chán chường dù không có lý do, thậm chí không thể tập trung tư tưởng đến độ đãng trí như người mất hồn.\\nThực tế bệnh quá đa dạng, triệu chứng bệnh khá mơ hồ, thậm chí quá thông thường như nhức đầu, chóng mặt, ù tai… nên một số không ít bệnh nhân lọt lưới chẩn đoán, thậm chí người thì nhức đầu, người thì thường mất ngủ khó chẩn đoán. Tuy nhiên một số nhân biết rõ hơn ai hết về cảm giác khó tả, cảm giác ghét công việc đi kèm với nỗi chán chường. Điểm bộc phát là thời điểm nạn nhân không còn hiệu năng như trước nhưng vẫn phải che giấu thực tế là mình đã bị từ lâu.', 'Dấu hiệu và triệu chứng \\nDo số lượng lớn các bệnh này và nhiều hệ thống bị ảnh hưởng, gần như mọi \"khiếu nại\" đến một cơ sở chăm sóc sức khỏe đều tính đến các bệnh trao đổi chất bẩm sinh, đặc biệt là ở trẻ em. Sau đây là ví dụ về các biểu hiện tiềm năng ảnh hưởng đến từng hệ thống cơ quan chính.\\nSinh trưởng kém, không phát triển mạnh, giảm cân\\nCơ quan sinh dục không rõ ràng, dậy thì muộn, tuổi dậy thì sớm\\nChậm phát triển, co giật, mất trí nhớ, bệnh não, đột quỵ\\nĐiếc, mù lòa\\nPhát ban da, sắc tố bất thường, thiếu sắc tố, phát triển tóc quá mức, nổi u trên da\\nBất thường về răng\\nSuy giảm miễn dịch, số lượng tiểu cầu thấp, số lượng hồng cầu thấp, lá lách to, hạch bạch huyết mở rộng\\nNhiều dạng ung thư\\nÓi mửa tái phát, tiêu chảy, đau bụng\\nĐi tiểu quá nhiều, suy thận, mất nước, phù nề\\nHuyết áp thấp, suy tim, tim to, tăng huyết áp, nhồi máu cơ tim\\nGan to, vàng da, suy gan\\nCác chức năng trên khuôn mặt không bình thường, dị tật bẩm sinh\\nThở quá mức (thở gấp), suy hô hấp']\n"
     ]
    }
   ],
   "source": [
    "print(docs)"
   ]
  },
  {
   "cell_type": "code",
   "execution_count": 22,
   "metadata": {},
   "outputs": [
    {
     "name": "stderr",
     "output_type": "stream",
     "text": [
      "Some weights of XLMRobertaForSequenceClassification were not initialized from the model checkpoint at D:\\Huan\\Project\\KHDL\\reranker and are newly initialized: ['classifier.dense.bias', 'classifier.dense.weight', 'classifier.out_proj.bias', 'classifier.out_proj.weight']\n",
      "You should probably TRAIN this model on a down-stream task to be able to use it for predictions and inference.\n"
     ]
    },
    {
     "data": {
      "text/plain": [
       "XLMRobertaForSequenceClassification(\n",
       "  (roberta): XLMRobertaModel(\n",
       "    (embeddings): XLMRobertaEmbeddings(\n",
       "      (word_embeddings): Embedding(250002, 1024, padding_idx=1)\n",
       "      (position_embeddings): Embedding(8194, 1024, padding_idx=1)\n",
       "      (token_type_embeddings): Embedding(1, 1024)\n",
       "      (LayerNorm): LayerNorm((1024,), eps=1e-05, elementwise_affine=True)\n",
       "      (dropout): Dropout(p=0.1, inplace=False)\n",
       "    )\n",
       "    (encoder): XLMRobertaEncoder(\n",
       "      (layer): ModuleList(\n",
       "        (0-23): 24 x XLMRobertaLayer(\n",
       "          (attention): XLMRobertaAttention(\n",
       "            (self): XLMRobertaSelfAttention(\n",
       "              (query): Linear(in_features=1024, out_features=1024, bias=True)\n",
       "              (key): Linear(in_features=1024, out_features=1024, bias=True)\n",
       "              (value): Linear(in_features=1024, out_features=1024, bias=True)\n",
       "              (dropout): Dropout(p=0.1, inplace=False)\n",
       "            )\n",
       "            (output): XLMRobertaSelfOutput(\n",
       "              (dense): Linear(in_features=1024, out_features=1024, bias=True)\n",
       "              (LayerNorm): LayerNorm((1024,), eps=1e-05, elementwise_affine=True)\n",
       "              (dropout): Dropout(p=0.1, inplace=False)\n",
       "            )\n",
       "          )\n",
       "          (intermediate): XLMRobertaIntermediate(\n",
       "            (dense): Linear(in_features=1024, out_features=4096, bias=True)\n",
       "            (intermediate_act_fn): GELUActivation()\n",
       "          )\n",
       "          (output): XLMRobertaOutput(\n",
       "            (dense): Linear(in_features=4096, out_features=1024, bias=True)\n",
       "            (LayerNorm): LayerNorm((1024,), eps=1e-05, elementwise_affine=True)\n",
       "            (dropout): Dropout(p=0.1, inplace=False)\n",
       "          )\n",
       "        )\n",
       "      )\n",
       "    )\n",
       "  )\n",
       "  (classifier): XLMRobertaClassificationHead(\n",
       "    (dense): Linear(in_features=1024, out_features=1024, bias=True)\n",
       "    (dropout): Dropout(p=0.1, inplace=False)\n",
       "    (out_proj): Linear(in_features=1024, out_features=1, bias=True)\n",
       "  )\n",
       ")"
      ]
     },
     "execution_count": 22,
     "metadata": {},
     "output_type": "execute_result"
    }
   ],
   "source": [
    "# Đường dẫn mô hình đã lưu\n",
    "load_path = r\"D:\\Huan\\Project\\KHDL\\reranker\"\n",
    "\n",
    "import torch\n",
    "from transformers import AutoModelForSequenceClassification, AutoTokenizer\n",
    "\n",
    "tokenizer = AutoTokenizer.from_pretrained(load_path)\n",
    "model = AutoModelForSequenceClassification.from_pretrained(load_path)\n",
    "model.eval()\n",
    "\n"
   ]
  },
  {
   "cell_type": "code",
   "execution_count": 23,
   "metadata": {},
   "outputs": [
    {
     "name": "stdout",
     "output_type": "stream",
     "text": [
      "tensor([-0.2844, -0.1790, -0.1131, -0.1713, -0.2281, -0.1313, -0.2224, -0.1789,\n",
      "        -0.2329, -0.2480])\n"
     ]
    }
   ],
   "source": [
    "pairs = [[query, doc] for doc in docs]\n",
    "with torch.no_grad():\n",
    "    inputs = tokenizer(pairs, padding=True, truncation=True, return_tensors='pt', max_length=1024)\n",
    "    scores = model(**inputs, return_dict=True).logits.view(-1, ).float()\n",
    "    print(scores)"
   ]
  },
  {
   "cell_type": "code",
   "execution_count": 24,
   "metadata": {},
   "outputs": [
    {
     "data": {
      "text/plain": [
       "tensor(2)"
      ]
     },
     "execution_count": 24,
     "metadata": {},
     "output_type": "execute_result"
    }
   ],
   "source": [
    "scores.argmax()"
   ]
  },
  {
   "cell_type": "code",
   "execution_count": 25,
   "metadata": {},
   "outputs": [
    {
     "name": "stdout",
     "output_type": "stream",
     "text": [
      "Triệu chứng \n",
      "DMD là một kiểu bệnh loạn dưỡng cơ nghiêm trọng nhất. Triệu chứng  thường bắt đầu ở bé trai khoảng 3 - 4 tuổi biểu hiện ở yếu cơ và teo cơ, ban đầu thường ở các cơ đùi, cơ bắp chân, sau đó là ở cơ cánh tay. Vì thế người bệnh đi lại và đứng lên rất khó khăn. Đến tuổi 12 thường không thể tự đi bộ. Ngoài ra nhiều người bệnh còn bị kèm chứng vẹo cột sống, một số còn bị thiểu năng trí tuệ. Nữ giới cũng có thể biểu hiện một số triệu chứng này, nhưng tần số bị bệnh rất thấp và mức độ biểu hiện bệnh thường nhẹ hơn. Nói chung, tuổi thọ trung bình của người bệnh là 26, nếu chăm sóc thật đầy đủ thì một số có thể sống tới độ tuổi 30 hoặc 40.\n",
      "Bệnh thường gặp ở nam, xảy ra với tần số khoảng 1/3600 trẻ sơ sinh nam, có tiền sử gia đình mắc bệnh này.\n",
      "Ngoài các triệu chứng dễ nhận nói trên, người bệnh còn có thể có các biểu hiện sau:\n",
      "-     Nếu đi được thì thường có xu hướng đi bằng bàn chân trước, hoặc thậm chí đi trên các ngón chân;\n",
      "-     Hay bị ngã, thường mỏi cơ;\n"
     ]
    }
   ],
   "source": [
    "print(docs[2])"
   ]
  }
 ],
 "metadata": {
  "kernelspec": {
   "display_name": "Python 3",
   "language": "python",
   "name": "python3"
  },
  "language_info": {
   "codemirror_mode": {
    "name": "ipython",
    "version": 3
   },
   "file_extension": ".py",
   "mimetype": "text/x-python",
   "name": "python",
   "nbconvert_exporter": "python",
   "pygments_lexer": "ipython3",
   "version": "3.12.4"
  }
 },
 "nbformat": 4,
 "nbformat_minor": 2
}
