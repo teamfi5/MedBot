{
 "cells": [
  {
   "cell_type": "code",
   "execution_count": 8,
   "metadata": {},
   "outputs": [],
   "source": [
    "import os\n",
    "\n",
    "remove_head = (' Hình ảnh ', ' Xem thêm ', ' Nguồn trích dẫn ', ' Chú thích ')\n",
    "\n",
    "def isItem(sentence):\n",
    "    if (sentence[:2] == '==') and (sentence[-2:] == '=='):\n",
    "        while sentence[0] == '=':\n",
    "            sentence = sentence[1:]\n",
    "        while sentence[-1] == '=':\n",
    "            sentence = sentence[:-1]\n",
    "        return (sentence, True)\n",
    "    return ('', False)\n",
    "\n",
    "def clean_text(filepath = ''):\n",
    "    text = open(filepath, 'r', encoding = 'utf-8').readlines()\n",
    "    text = [(i+'\\n' if i[-1] != '\\n' else i)[:-1] for i in text if i != '\\n' ]\n",
    "\n",
    "    content = ''\n",
    "    item = ''\n",
    "    dict = []\n",
    "    for sentence in text:\n",
    "        c = isItem(sentence)\n",
    "        if (c[1]):\n",
    "            if content != '':\n",
    "                dict.append((item, content))\n",
    "            content = ''\n",
    "            item = c[0]\n",
    "            continue\n",
    "        \n",
    "        content = content + sentence + '\\n'\n",
    "\n",
    "    \n",
    "    \n",
    "    new_filepath = filepath.replace('raw_data', 'clean_data')\n",
    "    folder_path = '\\\\'.join(new_filepath.split('\\\\')[:-1])\n",
    "    os.makedirs(folder_path, exist_ok=True)\n",
    "    \n",
    "    with open(new_filepath, 'w', encoding = 'utf-8') as f:\n",
    "        text = ''.join([item + '\\n' + content if not(item in remove_head) else '' for (item, content) in dict])\n",
    "        f.write(text[1:])\n",
    "\n",
    "\n",
    "raw_data = r'D:\\Huan\\Project\\KHDL\\raw_data'\n",
    "folder_paths = os.listdir(raw_data)\n",
    "for folder in folder_paths:\n",
    "    texts = os.listdir(raw_data + '\\\\' + folder)\n",
    "    if len(texts) == 0:\n",
    "        continue\n",
    "    for text in texts:\n",
    "        link = raw_data + '\\\\' + folder + '\\\\' + text\n",
    "        clean_text(filepath = link)"
   ]
  },
  {
   "cell_type": "markdown",
   "metadata": {},
   "source": [
    "Tạo từ điển (id, nội dung) từ dữ liệu đã được làm sạch\n"
   ]
  },
  {
   "cell_type": "code",
   "execution_count": 9,
   "metadata": {},
   "outputs": [],
   "source": [
    "import os\n",
    "clean_data = r'D:\\Huan\\Project\\KHDL\\clean_data'\n",
    "folder_paths = os.listdir(clean_data)\n",
    "dictionary = {}\n",
    "for folder in folder_paths:\n",
    "    texts = os.listdir(clean_data + '\\\\' + folder)\n",
    "    if len(texts) == 0:\n",
    "        continue\n",
    "    for text in texts:\n",
    "        link = clean_data + '\\\\' + folder + '\\\\' + text\n",
    "        with open(link, \"r\", encoding = 'utf-8') as f:\n",
    "            content = f.read()\n",
    "            if content != '':\n",
    "                dictionary.update({text.split('.')[0]: content})\n",
    "        "
   ]
  },
  {
   "cell_type": "code",
   "execution_count": 10,
   "metadata": {},
   "outputs": [
    {
     "name": "stdout",
     "output_type": "stream",
     "text": [
      "                                                          0\n",
      "13477390  Tự thụ phấn là khi phấn hoa từ cùng một cây rơ...\n",
      "13478635  Nhị là cơ quan sinh dục sản sinh ra phấn hoa c...\n",
      "140495    Hoa hay bông, bông hoa là bộ phận chứa cơ quan...\n",
      "15288019  Thụ phấn kín là một loại tự thụ phấn của thực ...\n",
      "15288208  Thụ phấn mở, là một cơ chế sinh sản thực vật, ...\n",
      "...                                                     ...\n",
      "138733    dinh van (1927-2022) là một nhãn hiệu trang sứ...\n",
      "19791819  Cửa hàng trang sức (tiếng Anh Anh: jewellery s...\n",
      "19841269  Dây chuyền thập giá (Crucifix necklace) hay Gi...\n",
      "3669347   Bạc sterling là một dạng hợp kim của bạc chứa ...\n",
      "810538    Vòng đeo tay là một loại trang sức đeo ở cổ ta...\n",
      "\n",
      "[18700 rows x 1 columns]\n"
     ]
    }
   ],
   "source": [
    "import pandas as pd\n",
    "df = pd.DataFrame.from_dict({k: [v] for k, v in dictionary.items()}, orient='index')\n",
    "df.dropna(inplace=True)\n",
    "print(df)"
   ]
  },
  {
   "cell_type": "code",
   "execution_count": 11,
   "metadata": {},
   "outputs": [],
   "source": [
    "df.to_csv('data.csv')"
   ]
  },
  {
   "cell_type": "code",
   "execution_count": 12,
   "metadata": {},
   "outputs": [],
   "source": [
    "data = pd.read_csv('data.csv')"
   ]
  },
  {
   "cell_type": "code",
   "execution_count": 13,
   "metadata": {},
   "outputs": [
    {
     "name": "stdout",
     "output_type": "stream",
     "text": [
      "       Unnamed: 0                                                  0\n",
      "0        13477390  Tự thụ phấn là khi phấn hoa từ cùng một cây rơ...\n",
      "1        13478635  Nhị là cơ quan sinh dục sản sinh ra phấn hoa c...\n",
      "2          140495  Hoa hay bông, bông hoa là bộ phận chứa cơ quan...\n",
      "3        15288019  Thụ phấn kín là một loại tự thụ phấn của thực ...\n",
      "4        15288208  Thụ phấn mở, là một cơ chế sinh sản thực vật, ...\n",
      "...           ...                                                ...\n",
      "18695      138733  dinh van (1927-2022) là một nhãn hiệu trang sứ...\n",
      "18696    19791819  Cửa hàng trang sức (tiếng Anh Anh: jewellery s...\n",
      "18697    19841269  Dây chuyền thập giá (Crucifix necklace) hay Gi...\n",
      "18698     3669347  Bạc sterling là một dạng hợp kim của bạc chứa ...\n",
      "18699      810538  Vòng đeo tay là một loại trang sức đeo ở cổ ta...\n",
      "\n",
      "[18700 rows x 2 columns]\n"
     ]
    }
   ],
   "source": [
    "print(data)"
   ]
  }
 ],
 "metadata": {
  "kernelspec": {
   "display_name": "Python 3",
   "language": "python",
   "name": "python3"
  },
  "language_info": {
   "codemirror_mode": {
    "name": "ipython",
    "version": 3
   },
   "file_extension": ".py",
   "mimetype": "text/x-python",
   "name": "python",
   "nbconvert_exporter": "python",
   "pygments_lexer": "ipython3",
   "version": "3.12.4"
  }
 },
 "nbformat": 4,
 "nbformat_minor": 2
}
